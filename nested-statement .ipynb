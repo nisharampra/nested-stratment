{
 "cells": [
  {
   "cell_type": "code",
   "execution_count": 5,
   "id": "eac6962a",
   "metadata": {},
   "outputs": [],
   "source": [
    "x = 25\n",
    "\n",
    "def printer():\n",
    "    x = 50\n",
    "    return x"
   ]
  },
  {
   "cell_type": "code",
   "execution_count": 6,
   "id": "4a24c737",
   "metadata": {},
   "outputs": [
    {
     "name": "stdout",
     "output_type": "stream",
     "text": [
      "25\n"
     ]
    }
   ],
   "source": [
    "print(x)"
   ]
  },
  {
   "cell_type": "code",
   "execution_count": 7,
   "id": "e6ac4a93",
   "metadata": {},
   "outputs": [
    {
     "name": "stdout",
     "output_type": "stream",
     "text": [
      "50\n"
     ]
    }
   ],
   "source": [
    "print(printer())"
   ]
  },
  {
   "cell_type": "code",
   "execution_count": 8,
   "id": "f8437ec9",
   "metadata": {},
   "outputs": [
    {
     "data": {
      "text/plain": [
       "<function __main__.<lambda>(num)>"
      ]
     },
     "execution_count": 8,
     "metadata": {},
     "output_type": "execute_result"
    }
   ],
   "source": [
    "#lambda num:num**2"
   ]
  },
  {
   "cell_type": "code",
   "execution_count": 13,
   "id": "2c8fdd5d",
   "metadata": {},
   "outputs": [
    {
     "name": "stdout",
     "output_type": "stream",
     "text": [
      "hello sammy\n"
     ]
    }
   ],
   "source": [
    "name = 'this a global string'\n",
    "\n",
    "def greet():\n",
    "    name = 'sammy'\n",
    "\n",
    "    def hello():\n",
    "        print('hello ' + name)  # Fixed the print function call\n",
    "    hello()\n",
    "\n",
    "greet()\n"
   ]
  },
  {
   "cell_type": "code",
   "execution_count": 14,
   "id": "9a873e89",
   "metadata": {},
   "outputs": [
    {
     "name": "stdout",
     "output_type": "stream",
     "text": [
      "hello this a global string\n"
     ]
    }
   ],
   "source": [
    "name = 'this a global string'\n",
    "\n",
    "def greet():\n",
    "    #name = 'sammy'\n",
    "\n",
    "    def hello():\n",
    "        print('hello ' + name)  # Fixed the print function call\n",
    "    hello()\n",
    "\n",
    "greet()\n"
   ]
  },
  {
   "cell_type": "code",
   "execution_count": 15,
   "id": "ed70fe1f",
   "metadata": {},
   "outputs": [],
   "source": [
    "x=50 \n",
    "def func(x):\n",
    "    print(f'x is {x}')"
   ]
  },
  {
   "cell_type": "code",
   "execution_count": 16,
   "id": "eb1da731",
   "metadata": {},
   "outputs": [
    {
     "name": "stdout",
     "output_type": "stream",
     "text": [
      "x is 50\n"
     ]
    }
   ],
   "source": [
    "func(x)"
   ]
  },
  {
   "cell_type": "code",
   "execution_count": 21,
   "id": "60778a9f",
   "metadata": {},
   "outputs": [],
   "source": [
    "x = 50  # Global variable x is defined with a value of 50\n",
    "\n",
    "def func(x):  # Function func is defined, which takes an argument x\n",
    "    print(f'x is {x}')  # Print the value of the argument x\n",
    "    # Local reassignment\n",
    "    x = 200  # A new local value is assigned to x\n",
    "    print(f'I just locally reassigned x to {x}') "
   ]
  },
  {
   "cell_type": "code",
   "execution_count": 22,
   "id": "b3e8ddc6",
   "metadata": {},
   "outputs": [
    {
     "name": "stdout",
     "output_type": "stream",
     "text": [
      "x is 50\n",
      "I just locally reassigned x to 200\n"
     ]
    }
   ],
   "source": [
    "func(x)"
   ]
  },
  {
   "cell_type": "code",
   "execution_count": 23,
   "id": "475ac0b6",
   "metadata": {},
   "outputs": [
    {
     "name": "stdout",
     "output_type": "stream",
     "text": [
      "50\n"
     ]
    }
   ],
   "source": [
    "print(x)"
   ]
  },
  {
   "cell_type": "code",
   "execution_count": 24,
   "id": "0f330bda",
   "metadata": {},
   "outputs": [
    {
     "name": "stdout",
     "output_type": "stream",
     "text": [
      "x is 50\n",
      "I just locally reassigned x to 200\n",
      "None\n"
     ]
    }
   ],
   "source": [
    "print(func(x))"
   ]
  },
  {
   "cell_type": "code",
   "execution_count": 26,
   "id": "083a81b0",
   "metadata": {},
   "outputs": [],
   "source": [
    "x = 50  # Global variable x is defined with a value of 50\n",
    "\n",
    "def func(x):  # Function func is defined, which takes an argument x\n",
    "    print(f'x is {x}')  # Print the value of the argument x\n",
    "    # Local reassignment\n",
    "    x = 200  # A new local value is assigned to x\n",
    "    print(f'I just locally reassigned x to {x}')"
   ]
  },
  {
   "cell_type": "code",
   "execution_count": 27,
   "id": "cf4f600c",
   "metadata": {},
   "outputs": [
    {
     "name": "stdout",
     "output_type": "stream",
     "text": [
      "50\n"
     ]
    }
   ],
   "source": [
    "print(x)"
   ]
  },
  {
   "cell_type": "code",
   "execution_count": 28,
   "id": "5938ac95",
   "metadata": {},
   "outputs": [
    {
     "name": "stdout",
     "output_type": "stream",
     "text": [
      "x is 50\n",
      "I just locally reassigned x to 200\n"
     ]
    }
   ],
   "source": [
    "func(x)"
   ]
  },
  {
   "cell_type": "code",
   "execution_count": 29,
   "id": "cb06e9eb",
   "metadata": {},
   "outputs": [],
   "source": [
    "x = 50\n",
    "\n",
    "def func():\n",
    "    global x\n",
    "    print(f'x is {x}')\n",
    "    # Local reassignment on a global variable \n",
    "    x = 'new value'\n",
    "    print(f'I just locally changed global x to {x}')\n"
   ]
  },
  {
   "cell_type": "code",
   "execution_count": null,
   "id": "a83b93f7",
   "metadata": {},
   "outputs": [],
   "source": []
  }
 ],
 "metadata": {
  "kernelspec": {
   "display_name": "Python 3 (ipykernel)",
   "language": "python",
   "name": "python3"
  },
  "language_info": {
   "codemirror_mode": {
    "name": "ipython",
    "version": 3
   },
   "file_extension": ".py",
   "mimetype": "text/x-python",
   "name": "python",
   "nbconvert_exporter": "python",
   "pygments_lexer": "ipython3",
   "version": "3.11.5"
  }
 },
 "nbformat": 4,
 "nbformat_minor": 5
}
